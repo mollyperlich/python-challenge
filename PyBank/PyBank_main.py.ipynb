{
 "cells": [
  {
   "cell_type": "code",
   "execution_count": 7,
   "metadata": {},
   "outputs": [],
   "source": [
    "#Your task is to create a Python script that analyzes the records to calculate each of the following:\n",
    "#The total number of months included in the dataset\n",
    "#The net total amount of \"Profit/Losses\" over the entire period\n",
    "#The average of the changes in \"Profit/Losses\" over the entire period\n",
    "#The greatest increase in profits (date and amount) over the entire period \n",
    "#The greatest decrease in losses (date and amount) over the entire period"
   ]
  },
  {
   "cell_type": "code",
   "execution_count": 8,
   "metadata": {},
   "outputs": [],
   "source": [
    "import os\n",
    "import csv\n",
    "import math\n",
    "\n",
    "#declare path\n",
    "budgetpath = os.path.join('budget_data.csv')"
   ]
  },
  {
   "cell_type": "code",
   "execution_count": 9,
   "metadata": {},
   "outputs": [
    {
     "name": "stdout",
     "output_type": "stream",
     "text": [
      "Financial Analysis\n",
      "-----------------------------------\n",
      "Total Months: 86\n",
      "Total Revenue: $ 38382578.0\n",
      "Average Revenue Change: $ -2315.1176470588234\n",
      "Greatest Increase in Revenue: Feb-2012 ($ 1926159 )\n",
      "Greatest Decrease in Revenue: Sep-2013 ($ -2196167 )\n"
     ]
    }
   ],
   "source": [
    "#declare variables/create lists \n",
    "total = 0\n",
    "counter = 0\n",
    "changes = []\n",
    "current_increase = 0\n",
    "current_decrease = 0\n",
    "\n",
    "#open CSV file \n",
    "with open(budgetpath,'r', newline=\"\") as bankcsv:\n",
    "    BankData = csv.reader(bankcsv, delimiter=\",\")\n",
    "#skip first row\n",
    "    header = next(BankData)\n",
    "    first_row = next(BankData)\n",
    "    \n",
    "    #Set up total counter\n",
    "    total = float(first_row[1]) + total\n",
    "    counter += 1\n",
    "    \n",
    "    #change to integer \n",
    "    previous = int(first_row[1])\n",
    "    previous_dec = int(first_row[1])\n",
    "    \n",
    "    #loop thru all enteries in BankData and count \n",
    "    for entry in BankData:\n",
    "        total = int(entry[1]) + total\n",
    "        counter += 1\n",
    "      \n",
    "        changes.append(int(entry[1]) - previous)\n",
    "        \n",
    "        #find change \n",
    "        if (int(entry[1]) - previous > current_increase):\n",
    "            current_increase = (int(entry[1]) - previous)\n",
    "            highest_month = entry[0]\n",
    "            previous = (int(entry[1]))\n",
    "        else:\n",
    "            previous = int(entry[1])\n",
    "        if (int(entry[1]) - previous_dec < current_decrease):\n",
    "            current_decrease = (int(entry[1]) - previous_dec)\n",
    "            lowest_month = entry[0]\n",
    "            previous_dec = (int(entry[1]))\n",
    "        else:\n",
    "            previous_dec = int(entry[1])\n",
    "        \n",
    "#find average change\n",
    "total_change = 0\n",
    "for row in changes:\n",
    "    total_change = row + total_change\n",
    "    \n",
    "ave_change = sum(changes)/len(changes)\n",
    "        \n",
    "    \n",
    "print(\"Financial Analysis\")\n",
    "print(\"-----------------------------------\")\n",
    "print(\"Total Months:\", counter)\n",
    "print(\"Total Revenue: $\", total)\n",
    "print(\"Average Revenue Change: $\", ave_change)\n",
    "print(\"Greatest Increase in Revenue:\", highest_month, \"($\", current_increase,\")\")\n",
    "print(\"Greatest Decrease in Revenue:\", lowest_month, \"($\", current_decrease,\")\")\n",
    "\n",
    "\n",
    "\n",
    "with open(\"textfile_budget.txt\", \"a\") as write_file:\n",
    "    print(f'Financial Analysis', file = write_file)\n",
    "    print(f'-----------------------------------',file = write_file)\n",
    "    print(f'Total Months: {counter}', file = write_file)\n",
    "    print(f'Total Revenue: $ {total}', file = write_file)\n",
    "    print(f'Average Revenue Change: $ {ave_change}', file = write_file)\n",
    "    print(f'Greatest Increase in Revenue: {highest_month}, ${current_increase}',file = write_file)\n",
    "    print(f'Greatest Decrease in Revenue: {lowest_month}, ${current_decrease}', file = write_file)"
   ]
  },
  {
   "cell_type": "code",
   "execution_count": null,
   "metadata": {},
   "outputs": [],
   "source": []
  }
 ],
 "metadata": {
  "kernelspec": {
   "display_name": "Python 3",
   "language": "python",
   "name": "python3"
  },
  "language_info": {
   "codemirror_mode": {
    "name": "ipython",
    "version": 3
   },
   "file_extension": ".py",
   "mimetype": "text/x-python",
   "name": "python",
   "nbconvert_exporter": "python",
   "pygments_lexer": "ipython3",
   "version": "3.6.5"
  }
 },
 "nbformat": 4,
 "nbformat_minor": 2
}
