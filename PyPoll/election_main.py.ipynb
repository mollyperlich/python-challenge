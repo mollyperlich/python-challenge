{
 "cells": [
  {
   "cell_type": "code",
   "execution_count": 50,
   "metadata": {},
   "outputs": [],
   "source": [
    "#The total number of votes cast\n",
    "#A complete list of candidates who received votes \n",
    "#The percentage of votes each candidate won\n",
    "#The total number of votes each candidate won \n",
    "#The winner of the election based on popular vote.\n",
    "\n",
    "import os\n",
    "import csv\n",
    "\n",
    "#declare path\n",
    "path = os.path.join('..', 'PyPoll','election_data.csv')"
   ]
  },
  {
   "cell_type": "code",
   "execution_count": 51,
   "metadata": {},
   "outputs": [],
   "source": [
    "poll = {}\n",
    "#set variable\n",
    "total_votes = 0 \n",
    "\n",
    "with open(path, 'r') as csvfile:\n",
    "    pollreader = csv.reader(csvfile, delimiter = \",\")\n",
    "    \n",
    "    # Remove header and save as a separate variable\n",
    "    poll_header = next(csvfile)\n",
    "    \n",
    "    #tally\n",
    "    for row in pollreader:\n",
    "        total_votes += 1\n",
    "        if row[2] in poll.keys():\n",
    "            poll[row[2]] = poll[row[2]] + 1\n",
    "        else:\n",
    "            poll[row[2]] = 1\n",
    "    \n",
    "    "
   ]
  },
  {
   "cell_type": "code",
   "execution_count": 52,
   "metadata": {},
   "outputs": [],
   "source": [
    "#create empty lists\n",
    "candidates = []\n",
    "vote_count = []"
   ]
  },
  {
   "cell_type": "code",
   "execution_count": 53,
   "metadata": {},
   "outputs": [],
   "source": [
    "for key, value in poll.items():\n",
    "    candidates.append(key)\n",
    "    vote_count.append(value)"
   ]
  },
  {
   "cell_type": "code",
   "execution_count": 54,
   "metadata": {},
   "outputs": [],
   "source": [
    "#vote percent list\n",
    "vote_percent = []\n",
    "for n in vote_count:\n",
    "    vote_percent.append(round(n/total_votes*100, 1))"
   ]
  },
  {
   "cell_type": "code",
   "execution_count": 57,
   "metadata": {},
   "outputs": [
    {
     "ename": "SyntaxError",
     "evalue": "unexpected EOF while parsing (<ipython-input-57-f71777f41934>, line 5)",
     "output_type": "error",
     "traceback": [
      "\u001b[0;36m  File \u001b[0;32m\"<ipython-input-57-f71777f41934>\"\u001b[0;36m, line \u001b[0;32m5\u001b[0m\n\u001b[0;31m    winner = winner_list.index(max(winner_list)\u001b[0m\n\u001b[0m                                               ^\u001b[0m\n\u001b[0;31mSyntaxError\u001b[0m\u001b[0;31m:\u001b[0m unexpected EOF while parsing\n"
     ]
    }
   ],
   "source": [
    "#tuple list for vote count, vote percent, using zip \n",
    "tuple_list = list(zip(candidates, vote_count, vote_percent))\n",
    "\n",
    "winner_list = []\n",
    "\n",
    "winner = winner_list.index(max(winner_list)"
   ]
  },
  {
   "cell_type": "code",
   "execution_count": 58,
   "metadata": {},
   "outputs": [
    {
     "name": "stdout",
     "output_type": "stream",
     "text": [
      "Election Results\n",
      "==============================\n",
      "Total Votes: 65499\n",
      "==============================\n",
      "[('Khan', 41295, 63.0), ('Correy', 13026, 19.9), ('Li', 9197, 14.0), (\"O'Tooley\", 1981, 3.0)]\n",
      "==============================\n"
     ]
    },
    {
     "ename": "NameError",
     "evalue": "name 'winner' is not defined",
     "output_type": "error",
     "traceback": [
      "\u001b[0;31m---------------------------------------------------------------------------\u001b[0m",
      "\u001b[0;31mNameError\u001b[0m                                 Traceback (most recent call last)",
      "\u001b[0;32m<ipython-input-58-4100d6723ef9>\u001b[0m in \u001b[0;36m<module>\u001b[0;34m()\u001b[0m\n\u001b[1;32m      5\u001b[0m \u001b[0mprint\u001b[0m\u001b[0;34m(\u001b[0m\u001b[0mtuple_list\u001b[0m\u001b[0;34m)\u001b[0m\u001b[0;34m\u001b[0m\u001b[0m\n\u001b[1;32m      6\u001b[0m \u001b[0mprint\u001b[0m\u001b[0;34m(\u001b[0m\u001b[0;34m\"==============================\"\u001b[0m\u001b[0;34m)\u001b[0m\u001b[0;34m\u001b[0m\u001b[0m\n\u001b[0;32m----> 7\u001b[0;31m \u001b[0mprint\u001b[0m \u001b[0;34m(\u001b[0m\u001b[0;34m'winner:'\u001b[0m \u001b[0;34m+\u001b[0m \u001b[0mwinner\u001b[0m\u001b[0;34m)\u001b[0m\u001b[0;34m\u001b[0m\u001b[0m\n\u001b[0m\u001b[1;32m      8\u001b[0m \u001b[0;34m\u001b[0m\u001b[0m\n\u001b[1;32m      9\u001b[0m \u001b[0;31m# Print output to text file\u001b[0m\u001b[0;34m\u001b[0m\u001b[0;34m\u001b[0m\u001b[0m\n",
      "\u001b[0;31mNameError\u001b[0m: name 'winner' is not defined"
     ]
    }
   ],
   "source": [
    "print(\"Election Results\")\n",
    "print(\"==============================\")\n",
    "print(\"Total Votes:\", total_votes)\n",
    "print(\"==============================\")\n",
    "print(tuple_list)\n",
    "print(\"==============================\")\n",
    "print (\"winner:\"\" + winner)\n",
    "\n",
    "# Print output to text file\n",
    "with open(\"polling_text.txt\", \"w\") as write_file:\n",
    "    print(f'Election Results', file = write_file)\n",
    "    print(f'==============================', file = write_file)\n",
    "    print(f'Total Votes: {total_votes}', file = write_file)\n",
    "    print(f'==============================', file = write_file)\n",
    "    print(f'{tuple_list}', file = write_file)\n",
    "    print(f'==============================', file = write_file)\n",
    "    print(f'Winner: {winner}', file = write_file)"
   ]
  },
  {
   "cell_type": "code",
   "execution_count": null,
   "metadata": {},
   "outputs": [],
   "source": []
  }
 ],
 "metadata": {
  "kernelspec": {
   "display_name": "Python 3",
   "language": "python",
   "name": "python3"
  },
  "language_info": {
   "codemirror_mode": {
    "name": "ipython",
    "version": 3
   },
   "file_extension": ".py",
   "mimetype": "text/x-python",
   "name": "python",
   "nbconvert_exporter": "python",
   "pygments_lexer": "ipython3",
   "version": "3.6.5"
  }
 },
 "nbformat": 4,
 "nbformat_minor": 2
}
